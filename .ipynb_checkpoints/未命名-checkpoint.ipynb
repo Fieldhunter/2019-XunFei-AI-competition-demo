{
 "cells": [
  {
   "cell_type": "code",
   "execution_count": null,
   "metadata": {},
   "outputs": [],
   "source": [
    "import pandas as pd"
   ]
  },
  {
   "cell_type": "code",
   "execution_count": null,
   "metadata": {},
   "outputs": [],
   "source": [
    "data1 = pd.read_csv(\"data/train.csv\")\n",
    "data2 = pd.read_csv(\"data/test.csv\")"
   ]
  },
  {
   "cell_type": "code",
   "execution_count": null,
   "metadata": {},
   "outputs": [],
   "source": [
    "import json\n",
    "with open(\"ip_index.json\", \"r\") as f:\n",
    "    ip_index = json.load(f)"
   ]
  },
  {
   "cell_type": "code",
   "execution_count": null,
   "metadata": {},
   "outputs": [],
   "source": [
    "new_ip = []\n",
    "for n, i in enumerate(data1[\"ip\"]):\n",
    "\ttry:\n",
    "\t\tif ip_index[i] in data1[\"city\"][n]:\n",
    "\t\t\tnew_ip.append(0)\n",
    "\t\telse:\n",
    "\t\t\tnew_ip.append(1)\n",
    "\texcept:\n",
    "\t\tnew_ip.append(1)\n",
    "\n",
    "data1[\"ip\"] = new_ip"
   ]
  },
  {
   "cell_type": "code",
   "execution_count": null,
   "metadata": {},
   "outputs": [],
   "source": [
    "def embedding(data1, data2):\n",
    "\n",
    "\tdef build_index(n, data, feature):\n",
    "\t\tnew_feature = []\n",
    "\t\tfor i in data[feature]:\n",
    "\t\t\ttry:\n",
    "\t\t\t\tnew_feature.append(embedding_set.index(i))\n",
    "\t\t\texcept:\n",
    "\t\t\t\tnew_feature.append(len(embedding_set) + n)\n",
    "\n",
    "\t\treturn new_feature\n",
    "\n",
    "\tembedding_index = [\"pkgname\", \"adunitshowid\", \"mediashowid\", \"city\", \\\n",
    "\t\t\t\t\t   \"adidmd5\", \"imeimd5\",\"openudidmd5\", \"macmd5\", \\\n",
    "\t\t\t\t\t   \"model\", \"osv\"]\n",
    "\tembedding_set = []\n",
    "\n",
    "\tfor i in embedding_index:\n",
    "\t\tembedding_set += list(set(data1[i]) & set(data2[i]))\n",
    "\n",
    "\n",
    "\tembedding_set = list(set(embedding_set))\n",
    "\n",
    "\tfor n, i in enumerate(embedding_index):\n",
    "\t\tdata1[i] = build_index(n, data1, i)\n",
    "\t\tdata2[i] = build_index(n, data2, i)\n",
    "\t\tprint(\"{} is ok\".format(i))"
   ]
  },
  {
   "cell_type": "code",
   "execution_count": null,
   "metadata": {},
   "outputs": [],
   "source": [
    "embedding(data1,data2)"
   ]
  },
  {
   "cell_type": "code",
   "execution_count": null,
   "metadata": {},
   "outputs": [],
   "source": []
  }
 ],
 "metadata": {
  "kernelspec": {
   "display_name": "Python 3",
   "language": "python",
   "name": "python3"
  },
  "language_info": {
   "codemirror_mode": {
    "name": "ipython",
    "version": 3
   },
   "file_extension": ".py",
   "mimetype": "text/x-python",
   "name": "python",
   "nbconvert_exporter": "python",
   "pygments_lexer": "ipython3",
   "version": "3.6.8"
  }
 },
 "nbformat": 4,
 "nbformat_minor": 2
}
