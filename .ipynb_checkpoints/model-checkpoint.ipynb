{
 "cells": [
  {
   "cell_type": "code",
   "execution_count": 15,
   "metadata": {},
   "outputs": [],
   "source": [
    "from keras.layers import Input, concatenate, Embedding, Dropout\n",
    "from keras.layers.core import Dense, Activation, Flatten\n",
    "from keras.models import Model\n",
    "from keras.utils import plot_model\n",
    "from keras import backend as K"
   ]
  },
  {
   "cell_type": "markdown",
   "metadata": {},
   "source": [
    "# 定义f1指标"
   ]
  },
  {
   "cell_type": "code",
   "execution_count": 16,
   "metadata": {},
   "outputs": [],
   "source": [
    "def f1(y_true, y_pred):\n",
    "\tdef recall(y_true, y_pred):\n",
    "\t\ttrue_positives = K.sum(K.round(K.clip(y_true * y_pred, 0, 1)))\n",
    "\t\tpossible_positives = K.sum(K.round(K.clip(y_true, 0, 1)))\n",
    "\t\trecall = true_positives / (possible_positives + K.epsilon())\n",
    "\n",
    "\t\treturn recall\n",
    "\n",
    "\tdef precision(y_true, y_pred):\n",
    "\t\ttrue_positives = K.sum(K.round(K.clip(y_true * y_pred, 0, 1)))\n",
    "\t\tpredicted_positives = K.sum(K.round(K.clip(y_pred, 0, 1)))\n",
    "\t\tprecision = true_positives / (predicted_positives + K.epsilon())\n",
    "\n",
    "\t\treturn precision\n",
    "\n",
    "\tprecision = precision(y_true, y_pred)\n",
    "\trecall = recall(y_true, y_pred)\n",
    "\n",
    "\treturn 2 * ((precision*recall) / (precision + recall + K.epsilon()))"
   ]
  },
  {
   "cell_type": "markdown",
   "metadata": {},
   "source": [
    "# 构建模型"
   ]
  },
  {
   "cell_type": "code",
   "execution_count": 17,
   "metadata": {},
   "outputs": [],
   "source": [
    "def model(LOSS, OPT, dropout_ALPHA):\n",
    "\t# 多输入\n",
    "\tinput1 = Input(shape=(114,))\n",
    "\tinput2 = Input(shape=(10,))\n",
    "\n",
    "\t# 分支部分\n",
    "\tdense1 = Dense(64)(input1)\n",
    "\tactive1 = Activation('relu')(dense1)\n",
    "\tembedding = Embedding(18375, 512, input_length=(10,))(input2)\n",
    "\tflatten = Flatten()(embedding)\n",
    "\n",
    "\t# 合并\n",
    "\tmerge = concatenate([active1, flatten])\n",
    "\n",
    "\tdropout1 = Dropout(dropout_ALPHA)(merge)\n",
    "\tdense2 = Dense(4096)(dropout1)\n",
    "\tactive2 = Activation('relu')(dense2)\n",
    "\n",
    "\tdropout2 = Dropout(dropout_ALPHA)(active2)\n",
    "\tdense3 = Dense(2048)(dropout2)\n",
    "\tactive3 = Activation('relu')(dense3)\n",
    "\n",
    "\tdropout3 = Dropout(dropout_ALPHA)(active3)\n",
    "\tdense4 = Dense(2048)(dropout3)\n",
    "\tactive4 = Activation('relu')(dense4)\n",
    "\n",
    "\tdropout4 = Dropout(dropout_ALPHA)(active4)\n",
    "\tdense5 = Dense(1024)(dropout4)\n",
    "\tactive5 = Activation('relu')(dense5)\n",
    "\n",
    "\tdropout5 = Dropout(dropout_ALPHA)(active5)\n",
    "\tdense6 = Dense(1024)(dropout5)\n",
    "\tactive6 = Activation('relu')(dense6)\n",
    "\n",
    "\tdropout6 = Dropout(dropout_ALPHA)(active6)\n",
    "\tdense7 = Dense(512)(dropout6)\n",
    "\tactive7 = Activation('relu')(dense7)\n",
    "\n",
    "\tdropout7 = Dropout(dropout_ALPHA)(active7)\n",
    "\tdense8 = Dense(512)(dropout7)\n",
    "\tactive8 = Activation('relu')(dense8)\n",
    "\n",
    "\tdense9 = Dense(256)(active8)\n",
    "\tactive9 = Activation('relu')(dense9)\n",
    "\n",
    "\tdense10 = Dense(1)(active9)\n",
    "\tactive10 = Activation('sigmoid')(dense10)\n",
    "\n",
    "\tmodel = Model(inputs=[input1,input2], outputs=active10)\n",
    "\tmodel.compile(loss=LOSS, metrics=[f1], optimizer=OPT)\n",
    "\n",
    "\treturn model\n"
   ]
  },
  {
   "cell_type": "code",
   "execution_count": 18,
   "metadata": {},
   "outputs": [
    {
     "name": "stdout",
     "output_type": "stream",
     "text": [
      "WARNING:tensorflow:From /usr/local/lib/python3.6/dist-packages/keras/backend/tensorflow_backend.py:3445: calling dropout (from tensorflow.python.ops.nn_ops) with keep_prob is deprecated and will be removed in a future version.\n",
      "Instructions for updating:\n",
      "Please use `rate` instead of `keep_prob`. Rate should be set to `rate = 1 - keep_prob`.\n"
     ]
    }
   ],
   "source": [
    "model = model(\"binary_crossentropy\", \"adam\", 0.25)"
   ]
  },
  {
   "cell_type": "code",
   "execution_count": 19,
   "metadata": {},
   "outputs": [
    {
     "name": "stdout",
     "output_type": "stream",
     "text": [
      "__________________________________________________________________________________________________\n",
      "Layer (type)                    Output Shape         Param #     Connected to                     \n",
      "==================================================================================================\n",
      "input_7 (InputLayer)            (None, 114)          0                                            \n",
      "__________________________________________________________________________________________________\n",
      "input_8 (InputLayer)            (None, 10)           0                                            \n",
      "__________________________________________________________________________________________________\n",
      "dense_22 (Dense)                (None, 64)           7360        input_7[0][0]                    \n",
      "__________________________________________________________________________________________________\n",
      "embedding_4 (Embedding)         (None, 10, 512)      9408000     input_8[0][0]                    \n",
      "__________________________________________________________________________________________________\n",
      "activation_22 (Activation)      (None, 64)           0           dense_22[0][0]                   \n",
      "__________________________________________________________________________________________________\n",
      "flatten_4 (Flatten)             (None, 5120)         0           embedding_4[0][0]                \n",
      "__________________________________________________________________________________________________\n",
      "concatenate_4 (Concatenate)     (None, 5184)         0           activation_22[0][0]              \n",
      "                                                                 flatten_4[0][0]                  \n",
      "__________________________________________________________________________________________________\n",
      "dropout_1 (Dropout)             (None, 5184)         0           concatenate_4[0][0]              \n",
      "__________________________________________________________________________________________________\n",
      "dense_23 (Dense)                (None, 4096)         21237760    dropout_1[0][0]                  \n",
      "__________________________________________________________________________________________________\n",
      "activation_23 (Activation)      (None, 4096)         0           dense_23[0][0]                   \n",
      "__________________________________________________________________________________________________\n",
      "dropout_2 (Dropout)             (None, 4096)         0           activation_23[0][0]              \n",
      "__________________________________________________________________________________________________\n",
      "dense_24 (Dense)                (None, 2048)         8390656     dropout_2[0][0]                  \n",
      "__________________________________________________________________________________________________\n",
      "activation_24 (Activation)      (None, 2048)         0           dense_24[0][0]                   \n",
      "__________________________________________________________________________________________________\n",
      "dropout_3 (Dropout)             (None, 2048)         0           activation_24[0][0]              \n",
      "__________________________________________________________________________________________________\n",
      "dense_25 (Dense)                (None, 2048)         4196352     dropout_3[0][0]                  \n",
      "__________________________________________________________________________________________________\n",
      "activation_25 (Activation)      (None, 2048)         0           dense_25[0][0]                   \n",
      "__________________________________________________________________________________________________\n",
      "dropout_4 (Dropout)             (None, 2048)         0           activation_25[0][0]              \n",
      "__________________________________________________________________________________________________\n",
      "dense_26 (Dense)                (None, 1024)         2098176     dropout_4[0][0]                  \n",
      "__________________________________________________________________________________________________\n",
      "activation_26 (Activation)      (None, 1024)         0           dense_26[0][0]                   \n",
      "__________________________________________________________________________________________________\n",
      "dropout_5 (Dropout)             (None, 1024)         0           activation_26[0][0]              \n",
      "__________________________________________________________________________________________________\n",
      "dense_27 (Dense)                (None, 1024)         1049600     dropout_5[0][0]                  \n",
      "__________________________________________________________________________________________________\n",
      "activation_27 (Activation)      (None, 1024)         0           dense_27[0][0]                   \n",
      "__________________________________________________________________________________________________\n",
      "dropout_6 (Dropout)             (None, 1024)         0           activation_27[0][0]              \n",
      "__________________________________________________________________________________________________\n",
      "dense_28 (Dense)                (None, 512)          524800      dropout_6[0][0]                  \n",
      "__________________________________________________________________________________________________\n",
      "activation_28 (Activation)      (None, 512)          0           dense_28[0][0]                   \n",
      "__________________________________________________________________________________________________\n",
      "dropout_7 (Dropout)             (None, 512)          0           activation_28[0][0]              \n",
      "__________________________________________________________________________________________________\n",
      "dense_29 (Dense)                (None, 512)          262656      dropout_7[0][0]                  \n",
      "__________________________________________________________________________________________________\n",
      "activation_29 (Activation)      (None, 512)          0           dense_29[0][0]                   \n",
      "__________________________________________________________________________________________________\n",
      "dense_30 (Dense)                (None, 256)          131328      activation_29[0][0]              \n",
      "__________________________________________________________________________________________________\n",
      "activation_30 (Activation)      (None, 256)          0           dense_30[0][0]                   \n",
      "__________________________________________________________________________________________________\n",
      "dense_31 (Dense)                (None, 1)            257         activation_30[0][0]              \n",
      "__________________________________________________________________________________________________\n",
      "activation_31 (Activation)      (None, 1)            0           dense_31[0][0]                   \n",
      "==================================================================================================\n",
      "Total params: 47,306,945\n",
      "Trainable params: 47,306,945\n",
      "Non-trainable params: 0\n",
      "__________________________________________________________________________________________________\n"
     ]
    }
   ],
   "source": [
    "model.summary()"
   ]
  },
  {
   "cell_type": "code",
   "execution_count": 36,
   "metadata": {},
   "outputs": [],
   "source": [
    "plot_model(model, to_file='model1.png',show_shapes=True)"
   ]
  },
  {
   "cell_type": "code",
   "execution_count": null,
   "metadata": {},
   "outputs": [],
   "source": []
  }
 ],
 "metadata": {
  "kernelspec": {
   "display_name": "Python 3",
   "language": "python",
   "name": "python3"
  },
  "language_info": {
   "codemirror_mode": {
    "name": "ipython",
    "version": 3
   },
   "file_extension": ".py",
   "mimetype": "text/x-python",
   "name": "python",
   "nbconvert_exporter": "python",
   "pygments_lexer": "ipython3",
   "version": "3.6.8"
  }
 },
 "nbformat": 4,
 "nbformat_minor": 2
}
