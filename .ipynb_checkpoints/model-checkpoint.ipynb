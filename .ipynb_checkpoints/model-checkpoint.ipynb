{
 "cells": [
  {
   "cell_type": "code",
   "execution_count": 8,
   "metadata": {},
   "outputs": [],
   "source": [
    "from keras.layers import Input, concatenate, Embedding\n",
    "from keras.layers.core import Dense, Activation, Flatten\n",
    "from keras.models import Model\n",
    "from keras.utils import plot_model\n",
    "from keras import backend as K"
   ]
  },
  {
   "cell_type": "markdown",
   "metadata": {},
   "source": [
    "# 定义f1指标"
   ]
  },
  {
   "cell_type": "code",
   "execution_count": 9,
   "metadata": {},
   "outputs": [],
   "source": [
    "def f1(y_true, y_pred):\n",
    "\tdef recall(y_true, y_pred):\n",
    "\t\ttrue_positives = K.sum(K.round(K.clip(y_true * y_pred, 0, 1)))\n",
    "\t\tpossible_positives = K.sum(K.round(K.clip(y_true, 0, 1)))\n",
    "\t\trecall = true_positives / (possible_positives + K.epsilon())\n",
    "\n",
    "\t\treturn recall\n",
    "\n",
    "\tdef precision(y_true, y_pred):\n",
    "\t\ttrue_positives = K.sum(K.round(K.clip(y_true * y_pred, 0, 1)))\n",
    "\t\tpredicted_positives = K.sum(K.round(K.clip(y_pred, 0, 1)))\n",
    "\t\tprecision = true_positives / (predicted_positives + K.epsilon())\n",
    "\n",
    "\t\treturn precision\n",
    "\n",
    "\tprecision = precision(y_true, y_pred)\n",
    "\trecall = recall(y_true, y_pred)\n",
    "\n",
    "\treturn 2 * ((precision*recall) / (precision + recall + K.epsilon()))"
   ]
  },
  {
   "cell_type": "markdown",
   "metadata": {},
   "source": [
    "# 构建模型"
   ]
  },
  {
   "cell_type": "code",
   "execution_count": 10,
   "metadata": {},
   "outputs": [],
   "source": [
    "def model():\n",
    "    # 多输入\n",
    "    input1 = Input(shape=(114,))\n",
    "    input2 = Input(shape=(10,))\n",
    "    \n",
    "    # 分叉部分\n",
    "    dense1 = Dense(64)(input1)\n",
    "    active1 = Activation('relu')(dense1)\n",
    "    embedding = Embedding(18375, 512, input_length=(10,))(input2)\n",
    "    flatten = Flatten()(embedding)\n",
    "    \n",
    "    # 合并\n",
    "    merge = concatenate([active1, flatten])\n",
    "    \n",
    "    dense2 = Dense(4096)(merge)\n",
    "    active2 = Activation('relu')(dense2)\n",
    "    dense3 = Dense(2048)(active2)\n",
    "    active3 = Activation('relu')(dense3)\n",
    "    dense4 = Dense(2048)(active3)\n",
    "    active4 = Activation('relu')(dense4)\n",
    "    dense5 = Dense(1024)(active4)\n",
    "    active5 = Activation('relu')(dense5)\n",
    "    dense6 = Dense(1024)(active5)\n",
    "    active6 = Activation('relu')(dense6)\n",
    "    dense7 = Dense(512)(active6)\n",
    "    active7 = Activation('relu')(dense7)\n",
    "    dense8 = Dense(512)(active7)\n",
    "    active8 = Activation('relu')(dense8)\n",
    "    dense9 = Dense(256)(active8)\n",
    "    active9 = Activation('relu')(dense9)\n",
    "    dense10 = Dense(1)(active9)\n",
    "    active10 = Activation('sigmoid')(dense10)\n",
    "    \n",
    "    model = Model(inputs=[input1,input2], outputs=active10)\n",
    "    model.compile(loss='binary_crossentropy', metrics=[f1], optimizer='adam')\n",
    "    \n",
    "    return model"
   ]
  },
  {
   "cell_type": "code",
   "execution_count": 11,
   "metadata": {},
   "outputs": [],
   "source": [
    "model = model()"
   ]
  },
  {
   "cell_type": "code",
   "execution_count": 12,
   "metadata": {},
   "outputs": [
    {
     "name": "stdout",
     "output_type": "stream",
     "text": [
      "__________________________________________________________________________________________________\n",
      "Layer (type)                    Output Shape         Param #     Connected to                     \n",
      "==================================================================================================\n",
      "input_3 (InputLayer)            (None, 114)          0                                            \n",
      "__________________________________________________________________________________________________\n",
      "input_4 (InputLayer)            (None, 10)           0                                            \n",
      "__________________________________________________________________________________________________\n",
      "dense_11 (Dense)                (None, 64)           7360        input_3[0][0]                    \n",
      "__________________________________________________________________________________________________\n",
      "embedding_2 (Embedding)         (None, 10, 512)      9408000     input_4[0][0]                    \n",
      "__________________________________________________________________________________________________\n",
      "activation_11 (Activation)      (None, 64)           0           dense_11[0][0]                   \n",
      "__________________________________________________________________________________________________\n",
      "flatten_2 (Flatten)             (None, 5120)         0           embedding_2[0][0]                \n",
      "__________________________________________________________________________________________________\n",
      "concatenate_2 (Concatenate)     (None, 5184)         0           activation_11[0][0]              \n",
      "                                                                 flatten_2[0][0]                  \n",
      "__________________________________________________________________________________________________\n",
      "dense_12 (Dense)                (None, 4096)         21237760    concatenate_2[0][0]              \n",
      "__________________________________________________________________________________________________\n",
      "activation_12 (Activation)      (None, 4096)         0           dense_12[0][0]                   \n",
      "__________________________________________________________________________________________________\n",
      "dense_13 (Dense)                (None, 2048)         8390656     activation_12[0][0]              \n",
      "__________________________________________________________________________________________________\n",
      "activation_13 (Activation)      (None, 2048)         0           dense_13[0][0]                   \n",
      "__________________________________________________________________________________________________\n",
      "dense_14 (Dense)                (None, 2048)         4196352     activation_13[0][0]              \n",
      "__________________________________________________________________________________________________\n",
      "activation_14 (Activation)      (None, 2048)         0           dense_14[0][0]                   \n",
      "__________________________________________________________________________________________________\n",
      "dense_15 (Dense)                (None, 1024)         2098176     activation_14[0][0]              \n",
      "__________________________________________________________________________________________________\n",
      "activation_15 (Activation)      (None, 1024)         0           dense_15[0][0]                   \n",
      "__________________________________________________________________________________________________\n",
      "dense_16 (Dense)                (None, 1024)         1049600     activation_15[0][0]              \n",
      "__________________________________________________________________________________________________\n",
      "activation_16 (Activation)      (None, 1024)         0           dense_16[0][0]                   \n",
      "__________________________________________________________________________________________________\n",
      "dense_17 (Dense)                (None, 512)          524800      activation_16[0][0]              \n",
      "__________________________________________________________________________________________________\n",
      "activation_17 (Activation)      (None, 512)          0           dense_17[0][0]                   \n",
      "__________________________________________________________________________________________________\n",
      "dense_18 (Dense)                (None, 512)          262656      activation_17[0][0]              \n",
      "__________________________________________________________________________________________________\n",
      "activation_18 (Activation)      (None, 512)          0           dense_18[0][0]                   \n",
      "__________________________________________________________________________________________________\n",
      "dense_19 (Dense)                (None, 256)          131328      activation_18[0][0]              \n",
      "__________________________________________________________________________________________________\n",
      "activation_19 (Activation)      (None, 256)          0           dense_19[0][0]                   \n",
      "__________________________________________________________________________________________________\n",
      "dense_20 (Dense)                (None, 1)            257         activation_19[0][0]              \n",
      "__________________________________________________________________________________________________\n",
      "activation_20 (Activation)      (None, 1)            0           dense_20[0][0]                   \n",
      "==================================================================================================\n",
      "Total params: 47,306,945\n",
      "Trainable params: 47,306,945\n",
      "Non-trainable params: 0\n",
      "__________________________________________________________________________________________________\n"
     ]
    }
   ],
   "source": [
    "model.summary()"
   ]
  },
  {
   "cell_type": "code",
   "execution_count": 36,
   "metadata": {},
   "outputs": [],
   "source": [
    "plot_model(model, to_file='model1.png',show_shapes=True)"
   ]
  },
  {
   "cell_type": "code",
   "execution_count": null,
   "metadata": {},
   "outputs": [],
   "source": []
  }
 ],
 "metadata": {
  "kernelspec": {
   "display_name": "Python 3",
   "language": "python",
   "name": "python3"
  },
  "language_info": {
   "codemirror_mode": {
    "name": "ipython",
    "version": 3
   },
   "file_extension": ".py",
   "mimetype": "text/x-python",
   "name": "python",
   "nbconvert_exporter": "python",
   "pygments_lexer": "ipython3",
   "version": "3.6.8"
  }
 },
 "nbformat": 4,
 "nbformat_minor": 2
}
