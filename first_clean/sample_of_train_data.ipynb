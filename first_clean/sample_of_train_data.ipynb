{
 "cells": [
  {
   "cell_type": "code",
   "execution_count": 1,
   "metadata": {},
   "outputs": [],
   "source": [
    "import pandas as pd\n",
    "import json"
   ]
  },
  {
   "cell_type": "code",
   "execution_count": 2,
   "metadata": {},
   "outputs": [],
   "source": [
    "data = pd.read_csv(\"data/train.csv\")\n",
    "json_dict = {}"
   ]
  },
  {
   "cell_type": "markdown",
   "metadata": {},
   "source": [
    "# 各项特征处理"
   ]
  },
  {
   "cell_type": "code",
   "execution_count": 3,
   "metadata": {},
   "outputs": [],
   "source": [
    "del_list = [\"sid\", \"ver\", \"province\", \"idfamd5\", \"make\", \"os\"]\n",
    "for i in del_list:\n",
    "    del data[i]"
   ]
  },
  {
   "cell_type": "code",
   "execution_count": 4,
   "metadata": {},
   "outputs": [],
   "source": [
    "apptype_set = list(set(data[\"apptype\"]))\n",
    "json_dict[\"apptype\"] = apptype_set\n",
    "new_apptype = []\n",
    "for i in data[\"apptype\"]:\n",
    "    new_apptype.append(apptype_set.index(i))\n",
    "data[\"apptype\"] = new_apptype"
   ]
  },
  {
   "cell_type": "code",
   "execution_count": 5,
   "metadata": {},
   "outputs": [],
   "source": [
    "new_nginxtime = (data[\"nginxtime\"]-data[\"nginxtime\"].min())/1000\n",
    "data[\"nginxtime\"] = new_nginxtime"
   ]
  },
  {
   "cell_type": "code",
   "execution_count": 6,
   "metadata": {},
   "outputs": [],
   "source": [
    "new_dvctype = []\n",
    "for i in data[\"dvctype\"]:\n",
    "    if i == 3:\n",
    "        i = 1\n",
    "    new_dvctype.append(i)\n",
    "data[\"dvctype\"] = new_dvctype"
   ]
  },
  {
   "cell_type": "code",
   "execution_count": 7,
   "metadata": {},
   "outputs": [],
   "source": [
    "carrier_set = list(set(data[\"carrier\"]))\n",
    "json_dict[\"carrier\"] = carrier_set\n",
    "new_carrier = []\n",
    "for i in data[\"carrier\"]:\n",
    "    new_carrier.append(carrier_set.index(i))\n",
    "data[\"carrier\"] = new_carrier"
   ]
  },
  {
   "cell_type": "code",
   "execution_count": 8,
   "metadata": {},
   "outputs": [],
   "source": [
    "new_orientation = []\n",
    "for i in data[\"orientation\"]:\n",
    "    if i == 90:\n",
    "        i = 1\n",
    "    new_orientation.append(i)\n",
    "data[\"orientation\"] = new_orientation"
   ]
  },
  {
   "cell_type": "code",
   "execution_count": 9,
   "metadata": {},
   "outputs": [],
   "source": [
    "lan_del_string = [\"_\", \"-\"]\n",
    "new_lan = []\n",
    "for i in data[\"lan\"]:\n",
    "    try:\n",
    "        for j in i:\n",
    "            if j in lan_del_string:\n",
    "                i = i.replace(j,\"\")\n",
    "\n",
    "        i = i.lower()\n",
    "    except:\n",
    "        pass\n",
    "    finally:\n",
    "        new_lan.append(i)\n",
    "\n",
    "lan_set = list(set(new_lan))\n",
    "json_dict[\"lan\"] = lan_set\n",
    "for n, i in enumerate(new_lan):\n",
    "    new_lan[n] = lan_set.index(i)\n",
    "data[\"lan\"] = new_lan"
   ]
  },
  {
   "cell_type": "code",
   "execution_count": 10,
   "metadata": {},
   "outputs": [],
   "source": [
    "model_del_string = [\" \", \"_\", \",\", \"+\", \"/\", \"-\", \"%\", \"(\", \")\", \".\"]\n",
    "new_model = []\n",
    "for i in data[\"model\"]:\n",
    "    try:\n",
    "        for j in i:\n",
    "            if j in model_del_string:\n",
    "                i = i.replace(j,\"\")\n",
    "        i = i.lower()\n",
    "        if \"huaweihuawei\" in i:\n",
    "            i = i.replace(\"huaweihuawei\",\"huawei\")\n",
    "    except:\n",
    "        pass\n",
    "    finally:\n",
    "        new_model.append(i)\n",
    "data[\"model\"] = new_model"
   ]
  },
  {
   "cell_type": "code",
   "execution_count": 11,
   "metadata": {},
   "outputs": [],
   "source": [
    "new_h = data[\"h\"]+0.1\n",
    "new_w = data[\"w\"]+0.1\n",
    "new_ppi = data[\"ppi\"]+0.1\n",
    "resolution_ratio = new_h * new_w * new_ppi\n",
    "\n",
    "del data[\"h\"]\n",
    "del data[\"w\"]\n",
    "del data[\"ppi\"]\n",
    "data[\"resolution_ratio\"] = resolution_ratio"
   ]
  },
  {
   "cell_type": "code",
   "execution_count": 12,
   "metadata": {},
   "outputs": [],
   "source": [
    "city_set = list(set(data[\"city\"]))\n",
    "json_dict[\"city\"] = city_set\n",
    "new_city = []\n",
    "for i in data[\"city\"]:\n",
    "    new_city.append(city_set.index(i))\n",
    "data[\"city\"] = new_city"
   ]
  },
  {
   "cell_type": "code",
   "execution_count": 13,
   "metadata": {},
   "outputs": [],
   "source": [
    "new_osv = []\n",
    "for i in data[\"osv\"]:\n",
    "    try:\n",
    "        if \",\" in i:\n",
    "            i = i.replace(\",\", \".\")\n",
    "        if \" 十核2.0G_HD\" in i:\n",
    "            i = i.replace(\" 十核2.0G_HD\", \"\")\n",
    "\n",
    "        process = i.split(\".\")\n",
    "        while process[-1] == \"0\":\n",
    "            del process[-1]\n",
    "        i = \".\".join(process)\n",
    "    except:\n",
    "        pass\n",
    "    finally:\n",
    "        new_osv.append(i)\n",
    "\n",
    "osv_set = list(set(new_osv))\n",
    "json_dict[\"osv\"] = osv_set\n",
    "for n, i in enumerate(new_osv):\n",
    "    new_osv[n] = osv_set.index(i)\n",
    "data[\"osv\"] = new_osv"
   ]
  },
  {
   "cell_type": "markdown",
   "metadata": {},
   "source": [
    "# 更改列顺序"
   ]
  },
  {
   "cell_type": "code",
   "execution_count": 19,
   "metadata": {},
   "outputs": [],
   "source": [
    "col_index = [\"label\", \"nginxtime\", \"ip\", \"resolution_ratio\", \"apptype\", \"city\" ,\\\n",
    "            \"dvctype\", \"ntt\", \"carrier\", \"osv\", \"orientation\", \"lan\", \"pkgname\", \\\n",
    "             \"adunitshowid\", \"mediashowid\", \"reqrealip\", \"adidmd5\", \"imeimd5\",\\\n",
    "            \"openudidmd5\", \"macmd5\", \"model\"]\n",
    "data = data[col_index]"
   ]
  }
 ],
 "metadata": {
  "kernelspec": {
   "display_name": "Python 3",
   "language": "python",
   "name": "python3"
  },
  "language_info": {
   "codemirror_mode": {
    "name": "ipython",
    "version": 3
   },
   "file_extension": ".py",
   "mimetype": "text/x-python",
   "name": "python",
   "nbconvert_exporter": "python",
   "pygments_lexer": "ipython3",
   "version": "3.6.8"
  }
 },
 "nbformat": 4,
 "nbformat_minor": 2
}
